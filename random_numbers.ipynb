{
 "cells": [
  {
   "cell_type": "code",
   "execution_count": 2,
   "id": "2cea15bc",
   "metadata": {},
   "outputs": [],
   "source": [
    "# Import the random module.\n",
    "import random\n",
    "# Import the NumPy module.\n",
    "import numpy as np\n",
    "# Import timeit.\n",
    "import timeit\n",
    "import pandas as pd\n",
    "import matplotlib.pyplot as plt\n"
   ]
  },
  {
   "cell_type": "code",
   "execution_count": 3,
   "id": "e4dca890",
   "metadata": {},
   "outputs": [
    {
     "data": {
      "text/plain": [
       "0.04980666740354145"
      ]
     },
     "execution_count": 3,
     "metadata": {},
     "output_type": "execute_result"
    }
   ],
   "source": [
    "# Generate a random between 0 and 1\n",
    "random.random()"
   ]
  },
  {
   "cell_type": "code",
   "execution_count": 4,
   "id": "39c334e9",
   "metadata": {},
   "outputs": [
    {
     "data": {
      "text/plain": [
       "11"
      ]
     },
     "execution_count": 4,
     "metadata": {},
     "output_type": "execute_result"
    }
   ],
   "source": [
    "# Generate random number between two numbers\n",
    "random.randint(-20,20)"
   ]
  },
  {
   "cell_type": "code",
   "execution_count": 5,
   "id": "6810cfd0",
   "metadata": {},
   "outputs": [
    {
     "data": {
      "text/plain": [
       "-8"
      ]
     },
     "execution_count": 5,
     "metadata": {},
     "output_type": "execute_result"
    }
   ],
   "source": [
    "random.randrange(-10,5,2)"
   ]
  },
  {
   "cell_type": "code",
   "execution_count": 6,
   "id": "669ff08f",
   "metadata": {},
   "outputs": [
    {
     "data": {
      "text/plain": [
       "-7.386564588471897"
      ]
     },
     "execution_count": 6,
     "metadata": {},
     "output_type": "execute_result"
    }
   ],
   "source": [
    "random.uniform(-15,15)\n"
   ]
  },
  {
   "cell_type": "code",
   "execution_count": 7,
   "id": "e0c02418",
   "metadata": {},
   "outputs": [
    {
     "data": {
      "text/plain": [
       "[3.6879140220639384,\n",
       " 26.686991753131732,\n",
       " -52.6949190278391,\n",
       " -69.15013919141794,\n",
       " 62.663165062608876,\n",
       " 63.797280233266584,\n",
       " 2.8369934906925556,\n",
       " -6.098276175612396,\n",
       " -54.84027123525424,\n",
       " -52.54272390044126]"
      ]
     },
     "execution_count": 7,
     "metadata": {},
     "output_type": "execute_result"
    }
   ],
   "source": [
    "# Here we generated limited # of random values and stored them into an array\n",
    "x = 1\n",
    "latitudes = []\n",
    "while x < 11:\n",
    "    random_lat = random.randint(-90, 89) + random.random()\n",
    "    latitudes.append(random_lat)\n",
    "    x += 1\n",
    "latitudes"
   ]
  },
  {
   "cell_type": "code",
   "execution_count": 8,
   "id": "3eb32ac6",
   "metadata": {},
   "outputs": [
    {
     "data": {
      "text/plain": [
       "0.5069828743167903"
      ]
     },
     "execution_count": 8,
     "metadata": {},
     "output_type": "execute_result"
    }
   ],
   "source": [
    "np.random.uniform(-90.000, 90.000)\n",
    "\n",
    "# When we use the NumPy module with the random.uniform() function, the parenthetical parameters contain \n",
    "# a lower boundary (low value) and an upper boundary (high value) that are floating-point decimal numbers.\n"
   ]
  },
  {
   "cell_type": "code",
   "execution_count": 9,
   "id": "66165916",
   "metadata": {},
   "outputs": [
    {
     "data": {
      "text/plain": [
       "array([-63.01764036,  54.92333612,  35.5010811 , -53.25939882,\n",
       "        -2.34567691, -10.04259951,  58.73027835, -81.25474837,\n",
       "       -56.65538946,  45.64285239,  67.42589244,  62.27293708,\n",
       "       -17.10014135,  78.47979167,   1.57952364, -37.53519402,\n",
       "       -15.37151602,  15.71542691,  64.64504481, -20.72845289,\n",
       "       -78.68375593, -73.17593536,  86.67805244,  33.41758898,\n",
       "       -34.41703805,  25.20625561, -77.30326241,   6.37125059,\n",
       "         1.17479551, -58.85904639, -59.91068286, -50.20518675,\n",
       "        86.46632181,  12.82242643, -76.05593278, -65.15482581,\n",
       "        -8.22892367,  17.61664566, -62.88964748,  63.93069567,\n",
       "       -47.96333728, -59.09732257,  79.9589027 , -40.71698476,\n",
       "        37.53242991, -58.63047009,  24.05976555, -11.247258  ,\n",
       "       -80.50340346,  16.91265223])"
      ]
     },
     "execution_count": 9,
     "metadata": {},
     "output_type": "execute_result"
    }
   ],
   "source": [
    "# Generate multiple random values\n",
    "\n",
    "np.random.uniform(-90.000, 90.000, size=50)"
   ]
  },
  {
   "cell_type": "code",
   "execution_count": 10,
   "id": "6c786bc8",
   "metadata": {},
   "outputs": [],
   "source": [
    "##### To test how long a piece of code or function takes to run, we can import the \"timeit\" module "
   ]
  },
  {
   "cell_type": "code",
   "execution_count": 11,
   "id": "1eb06eea",
   "metadata": {},
   "outputs": [],
   "source": [
    "# using %timeit to record the time it takes for the code to run the iterations or size 1500\n",
    "# %timeit np.random.uniform(-90.000, 90.000, size=1500)"
   ]
  },
  {
   "cell_type": "code",
   "execution_count": 12,
   "id": "2114de00",
   "metadata": {},
   "outputs": [],
   "source": [
    "def latitudes(size):\n",
    "    latitudes = []\n",
    "    x = 0\n",
    "    while x < (size):\n",
    "        random_lat = random.randint(-90, 90) + random.random()\n",
    "        latitudes.append(random_lat)\n",
    "        x += 1\n",
    "    return latitudes\n",
    "# Call the function with 1500.\n",
    "# %timeit latitudes(1500)"
   ]
  },
  {
   "cell_type": "code",
   "execution_count": 13,
   "id": "59769f42",
   "metadata": {},
   "outputs": [
    {
     "data": {
      "text/plain": [
       "<zip at 0x16fdf9706c0>"
      ]
     },
     "execution_count": 13,
     "metadata": {},
     "output_type": "execute_result"
    }
   ],
   "source": [
    "# Create a set of random latitude and longitude combinations.\n",
    "lats = np.random.uniform(low=-90.000, high=90.000, size=1500)\n",
    "lngs = np.random.uniform(low=-180.000, high=180.000, size=1500)\n",
    "lat_lngs = zip(lats, lngs)\n",
    "lat_lngs"
   ]
  },
  {
   "cell_type": "code",
   "execution_count": 14,
   "id": "e857ba9d",
   "metadata": {},
   "outputs": [],
   "source": [
    "# Create a practice set of random latitude and longitude combinations.\n",
    "x = [25.12903645, 25.92017388, 26.62509167, -59.98969384, 37.30571269]\n",
    "y = [-67.59741259, 11.09532135, 74.84233102, -76.89176677, -61.13376282]\n",
    "coordinates = zip(x, y)"
   ]
  },
  {
   "cell_type": "code",
   "execution_count": null,
   "id": "4451d610",
   "metadata": {},
   "outputs": [],
   "source": [
    "# Use the tuple() function to display the latitude and longitude combinations.\n",
    "for coordinate in coordinates:\n",
    "    print(coordinate[0], coordinate[1])"
   ]
  }
 ],
 "metadata": {
  "kernelspec": {
   "display_name": "PythonData",
   "language": "python",
   "name": "pythondata"
  },
  "language_info": {
   "codemirror_mode": {
    "name": "ipython",
    "version": 3
   },
   "file_extension": ".py",
   "mimetype": "text/x-python",
   "name": "python",
   "nbconvert_exporter": "python",
   "pygments_lexer": "ipython3",
   "version": "3.9.7"
  }
 },
 "nbformat": 4,
 "nbformat_minor": 5
}
