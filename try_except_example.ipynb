{
 "cells": [
  {
   "cell_type": "code",
   "execution_count": 1,
   "id": "50567524",
   "metadata": {},
   "outputs": [],
   "source": [
    "import requests as req\n",
    "from config import *"
   ]
  },
  {
   "cell_type": "code",
   "execution_count": 2,
   "id": "30b889c4",
   "metadata": {},
   "outputs": [],
   "source": [
    "url = \"http://api.openweathermap.org/data/2.5/weather?units=Imperial&appid=\" + weather_api_key"
   ]
  },
  {
   "cell_type": "code",
   "execution_count": 3,
   "id": "d54cdff4",
   "metadata": {},
   "outputs": [],
   "source": [
    "cities = [\"Pittsburgh\",\"Austin\", \"New  York\",\" Los Angeles\", \"Seattle\"]"
   ]
  },
  {
   "cell_type": "code",
   "execution_count": 8,
   "id": "da01d927",
   "metadata": {},
   "outputs": [
    {
     "name": "stdout",
     "output_type": "stream",
     "text": [
      "It is currently25.03 degrees Pittsburgh\n",
      "It is currently36.14 degrees Austin\n",
      "Keyerror recieved for New  York\n",
      "It is currently66.65 degrees  Los Angeles\n",
      "It is currently47.53 degrees Seattle\n"
     ]
    }
   ],
   "source": [
    "for city in cities:\n",
    "    try:\n",
    "        city_url = url + \"&q=\" + city\n",
    "        weather = req.get(city_url).json()\n",
    "        temp = weather ['main']['temp']\n",
    "    # we can also use \"except KeyError:\" to plan for certain types of errors as well\n",
    "    except:\n",
    "        print('Keyerror recieved for ' + city)\n",
    "        continue   #this continue ensures the error value is not utilized\n",
    "    print(\"It is currently\" + str(temp) + \" degrees \" + city)"
   ]
  },
  {
   "cell_type": "code",
   "execution_count": null,
   "id": "74ba3d15",
   "metadata": {},
   "outputs": [],
   "source": []
  }
 ],
 "metadata": {
  "kernelspec": {
   "display_name": "PythonData",
   "language": "python",
   "name": "pythondata"
  },
  "language_info": {
   "codemirror_mode": {
    "name": "ipython",
    "version": 3
   },
   "file_extension": ".py",
   "mimetype": "text/x-python",
   "name": "python",
   "nbconvert_exporter": "python",
   "pygments_lexer": "ipython3",
   "version": "3.9.7"
  }
 },
 "nbformat": 4,
 "nbformat_minor": 5
}
